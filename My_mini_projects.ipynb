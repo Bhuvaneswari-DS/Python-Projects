{
  "nbformat": 4,
  "nbformat_minor": 0,
  "metadata": {
    "colab": {
      "provenance": []
    },
    "kernelspec": {
      "name": "python3",
      "display_name": "Python 3"
    },
    "language_info": {
      "name": "python"
    }
  },
  "cells": [
    {
      "cell_type": "code",
      "execution_count": null,
      "metadata": {
        "id": "-dnY0lr86mhV"
      },
      "outputs": [],
      "source": [
        "name = input(\"Enter your name: \")\n",
        "age = int (input(\"Enter your age: \"))\n",
        "movie_certifi = input(\"enter movie certi: \")\n",
        "if age>18:\n",
        "   if movie_certifi == \"A\":\n",
        "     print(\"you can watch the movie\")\n",
        "   elif movie_certifi == \"U/A\":\n",
        "     print(\"you can watch the movie\")\n",
        "   elif movie_certifi == \"U\":\n",
        "     print(\"you can watch the movie\")\n",
        "elif age>=13:\n",
        "   if movie_certifi == \"A\":\n",
        "     print(\"you can't watch the movie\")\n",
        "   elif movie_certifi == \"U/A\":\n",
        "     print(\"you can watch the movie\")\n",
        "   elif movie_certifi == \"U\":\n",
        "     print(\"you can watch the movie\")\n",
        "else:\n",
        "   if movie_certifi == \"A\":\n",
        "     print(\"you can't watch the movie\")\n",
        "   elif movie_certifi == \"U/A\":\n",
        "     print(\"you can't watch the movie\")\n",
        "   elif movie_certifi == \"U\":\n",
        "     print(\"you can watch the movie\")"
      ]
    }
  ]
}