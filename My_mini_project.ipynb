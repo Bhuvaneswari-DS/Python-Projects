{
  "nbformat": 4,
  "nbformat_minor": 0,
  "metadata": {
    "colab": {
      "provenance": []
    },
    "kernelspec": {
      "name": "python3",
      "display_name": "Python 3"
    },
    "language_info": {
      "name": "python"
    }
  },
  "cells": [
    {
      "cell_type": "code",
      "source": [
        "weight=float(input(\"Enter the weight:\"))\n",
        "height=float(input(\"enter the height:\"))\n",
        "def weight_calci():\n",
        "    bmi=weight/(pow(height,2))\n",
        "    return bmi\n",
        "total=weight_calci()\n",
        "if(total<=18.5):\n",
        "    print(\"This weight is underweight\")\n",
        "elif(total>18.5 and total<=24.9):\n",
        "    print(\"This weight is healthy\")\n",
        "elif(total>25 and total<=29.9):\n",
        "    print(\"This weight is overweight\")\n",
        "else:\n",
        "    print(\"This weight is obese\")\n",
        ""
      ],
      "metadata": {
        "id": "kU5RXtZt_8RP"
      },
      "execution_count": null,
      "outputs": []
    }
  ]
}